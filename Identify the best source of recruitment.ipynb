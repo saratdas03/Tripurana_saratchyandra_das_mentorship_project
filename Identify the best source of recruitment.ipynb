{
 "cells": [
  {
   "cell_type": "markdown",
   "id": "1e8c556e",
   "metadata": {},
   "source": [
    "# 1.DATA LOADING AND EXPLORATION"
   ]
  },
  {
   "cell_type": "code",
   "execution_count": 1,
   "id": "1c40a457",
   "metadata": {},
   "outputs": [],
   "source": [
    "import pandas as pd\n",
    "import numpy as np\n",
    "import seaborn as sns\n",
    "import matplotlib.pyplot as plt"
   ]
  },
  {
   "cell_type": "code",
   "execution_count": 7,
   "id": "9507e353",
   "metadata": {},
   "outputs": [],
   "source": [
    "data = pd.read_csv(\"Recruitment_Data.csv\")"
   ]
  },
  {
   "cell_type": "code",
   "execution_count": 8,
   "id": "233511d1",
   "metadata": {},
   "outputs": [
    {
     "data": {
      "text/plain": [
       "(446, 4)"
      ]
     },
     "execution_count": 8,
     "metadata": {},
     "output_type": "execute_result"
    }
   ],
   "source": [
    "data.shape"
   ]
  },
  {
   "cell_type": "code",
   "execution_count": 9,
   "id": "6b1f9a03",
   "metadata": {},
   "outputs": [
    {
     "data": {
      "text/html": [
       "<div>\n",
       "<style scoped>\n",
       "    .dataframe tbody tr th:only-of-type {\n",
       "        vertical-align: middle;\n",
       "    }\n",
       "\n",
       "    .dataframe tbody tr th {\n",
       "        vertical-align: top;\n",
       "    }\n",
       "\n",
       "    .dataframe thead th {\n",
       "        text-align: right;\n",
       "    }\n",
       "</style>\n",
       "<table border=\"1\" class=\"dataframe\">\n",
       "  <thead>\n",
       "    <tr style=\"text-align: right;\">\n",
       "      <th></th>\n",
       "      <th>attrition</th>\n",
       "      <th>performance_rating</th>\n",
       "      <th>sales_quota_pct</th>\n",
       "      <th>recruiting_source</th>\n",
       "    </tr>\n",
       "  </thead>\n",
       "  <tbody>\n",
       "    <tr>\n",
       "      <th>0</th>\n",
       "      <td>1</td>\n",
       "      <td>3</td>\n",
       "      <td>1.088190</td>\n",
       "      <td>Applied Online</td>\n",
       "    </tr>\n",
       "    <tr>\n",
       "      <th>1</th>\n",
       "      <td>0</td>\n",
       "      <td>3</td>\n",
       "      <td>2.394173</td>\n",
       "      <td>NaN</td>\n",
       "    </tr>\n",
       "    <tr>\n",
       "      <th>2</th>\n",
       "      <td>1</td>\n",
       "      <td>2</td>\n",
       "      <td>0.497530</td>\n",
       "      <td>Campus</td>\n",
       "    </tr>\n",
       "    <tr>\n",
       "      <th>3</th>\n",
       "      <td>0</td>\n",
       "      <td>2</td>\n",
       "      <td>2.513958</td>\n",
       "      <td>NaN</td>\n",
       "    </tr>\n",
       "    <tr>\n",
       "      <th>4</th>\n",
       "      <td>0</td>\n",
       "      <td>3</td>\n",
       "      <td>1.424789</td>\n",
       "      <td>Applied Online</td>\n",
       "    </tr>\n",
       "  </tbody>\n",
       "</table>\n",
       "</div>"
      ],
      "text/plain": [
       "   attrition  performance_rating  sales_quota_pct recruiting_source\n",
       "0          1                   3         1.088190    Applied Online\n",
       "1          0                   3         2.394173               NaN\n",
       "2          1                   2         0.497530            Campus\n",
       "3          0                   2         2.513958               NaN\n",
       "4          0                   3         1.424789    Applied Online"
      ]
     },
     "execution_count": 9,
     "metadata": {},
     "output_type": "execute_result"
    }
   ],
   "source": [
    "data.head()"
   ]
  },
  {
   "cell_type": "code",
   "execution_count": 10,
   "id": "739fe1bd",
   "metadata": {},
   "outputs": [
    {
     "name": "stdout",
     "output_type": "stream",
     "text": [
      "<class 'pandas.core.frame.DataFrame'>\n",
      "RangeIndex: 446 entries, 0 to 445\n",
      "Data columns (total 4 columns):\n",
      " #   Column              Non-Null Count  Dtype  \n",
      "---  ------              --------------  -----  \n",
      " 0   attrition           446 non-null    int64  \n",
      " 1   performance_rating  446 non-null    int64  \n",
      " 2   sales_quota_pct     446 non-null    float64\n",
      " 3   recruiting_source   241 non-null    object \n",
      "dtypes: float64(1), int64(2), object(1)\n",
      "memory usage: 14.1+ KB\n"
     ]
    }
   ],
   "source": [
    "data.info(verbose=True)"
   ]
  },
  {
   "cell_type": "code",
   "execution_count": 12,
   "id": "cd00fb51",
   "metadata": {},
   "outputs": [
    {
     "data": {
      "text/plain": [
       "attrition              0.00\n",
       "performance_rating     0.00\n",
       "sales_quota_pct        0.00\n",
       "recruiting_source     45.96\n",
       "dtype: float64"
      ]
     },
     "execution_count": 12,
     "metadata": {},
     "output_type": "execute_result"
    }
   ],
   "source": [
    "# calculating the percentage of null values \n",
    "((data.isnull().sum()/len(data.index)).round(4))*100"
   ]
  },
  {
   "cell_type": "code",
   "execution_count": 13,
   "id": "72939513",
   "metadata": {},
   "outputs": [],
   "source": [
    "# Above we can see that recruiting source is having 45.96 persentage of missing values, hence we need to replace these missing values "
   ]
  },
  {
   "cell_type": "code",
   "execution_count": 14,
   "id": "b07a3571",
   "metadata": {},
   "outputs": [
    {
     "data": {
      "text/plain": [
       "recruiting_source\n",
       "Applied Online    130\n",
       "Campus             56\n",
       "Referral           45\n",
       "Search Firm        10\n",
       "Name: count, dtype: int64"
      ]
     },
     "execution_count": 14,
     "metadata": {},
     "output_type": "execute_result"
    }
   ],
   "source": [
    "# Checking the unique values in Recruiting source and their value count \n",
    "data['recruiting_source'].value_counts()"
   ]
  },
  {
   "cell_type": "code",
   "execution_count": 15,
   "id": "c6f7c505",
   "metadata": {},
   "outputs": [],
   "source": [
    "# given that the presedntage of missing values is high and the value counts of unique values does not have any outlineer point.\n",
    "# so we cannot replace this data set with any of the unique values as that might affect our analysics.\n",
    "# so we have to remove the rows that contain this null values."
   ]
  },
  {
   "cell_type": "code",
   "execution_count": 16,
   "id": "05275ada",
   "metadata": {},
   "outputs": [],
   "source": [
    "data.dropna(inplace=True)"
   ]
  },
  {
   "cell_type": "code",
   "execution_count": 18,
   "id": "7914991a",
   "metadata": {},
   "outputs": [
    {
     "data": {
      "text/plain": [
       "(241, 4)"
      ]
     },
     "execution_count": 18,
     "metadata": {},
     "output_type": "execute_result"
    }
   ],
   "source": [
    "data.shape"
   ]
  },
  {
   "cell_type": "code",
   "execution_count": 19,
   "id": "569272bd",
   "metadata": {},
   "outputs": [
    {
     "data": {
      "text/html": [
       "<div>\n",
       "<style scoped>\n",
       "    .dataframe tbody tr th:only-of-type {\n",
       "        vertical-align: middle;\n",
       "    }\n",
       "\n",
       "    .dataframe tbody tr th {\n",
       "        vertical-align: top;\n",
       "    }\n",
       "\n",
       "    .dataframe thead th {\n",
       "        text-align: right;\n",
       "    }\n",
       "</style>\n",
       "<table border=\"1\" class=\"dataframe\">\n",
       "  <thead>\n",
       "    <tr style=\"text-align: right;\">\n",
       "      <th></th>\n",
       "      <th>attrition</th>\n",
       "      <th>performance_rating</th>\n",
       "      <th>sales_quota_pct</th>\n",
       "      <th>recruiting_source</th>\n",
       "    </tr>\n",
       "  </thead>\n",
       "  <tbody>\n",
       "    <tr>\n",
       "      <th>0</th>\n",
       "      <td>1</td>\n",
       "      <td>3</td>\n",
       "      <td>1.088190</td>\n",
       "      <td>Applied Online</td>\n",
       "    </tr>\n",
       "    <tr>\n",
       "      <th>2</th>\n",
       "      <td>1</td>\n",
       "      <td>2</td>\n",
       "      <td>0.497530</td>\n",
       "      <td>Campus</td>\n",
       "    </tr>\n",
       "    <tr>\n",
       "      <th>4</th>\n",
       "      <td>0</td>\n",
       "      <td>3</td>\n",
       "      <td>1.424789</td>\n",
       "      <td>Applied Online</td>\n",
       "    </tr>\n",
       "    <tr>\n",
       "      <th>5</th>\n",
       "      <td>1</td>\n",
       "      <td>3</td>\n",
       "      <td>0.548123</td>\n",
       "      <td>Referral</td>\n",
       "    </tr>\n",
       "    <tr>\n",
       "      <th>6</th>\n",
       "      <td>1</td>\n",
       "      <td>3</td>\n",
       "      <td>0.794213</td>\n",
       "      <td>Applied Online</td>\n",
       "    </tr>\n",
       "  </tbody>\n",
       "</table>\n",
       "</div>"
      ],
      "text/plain": [
       "   attrition  performance_rating  sales_quota_pct recruiting_source\n",
       "0          1                   3         1.088190    Applied Online\n",
       "2          1                   2         0.497530            Campus\n",
       "4          0                   3         1.424789    Applied Online\n",
       "5          1                   3         0.548123          Referral\n",
       "6          1                   3         0.794213    Applied Online"
      ]
     },
     "execution_count": 19,
     "metadata": {},
     "output_type": "execute_result"
    }
   ],
   "source": [
    "data.head()"
   ]
  },
  {
   "cell_type": "code",
   "execution_count": 20,
   "id": "852f2cdd",
   "metadata": {},
   "outputs": [],
   "source": [
    "# Now the rows have null values have been removed."
   ]
  },
  {
   "cell_type": "code",
   "execution_count": 21,
   "id": "b63a3b11",
   "metadata": {},
   "outputs": [
    {
     "data": {
      "text/html": [
       "<div>\n",
       "<style scoped>\n",
       "    .dataframe tbody tr th:only-of-type {\n",
       "        vertical-align: middle;\n",
       "    }\n",
       "\n",
       "    .dataframe tbody tr th {\n",
       "        vertical-align: top;\n",
       "    }\n",
       "\n",
       "    .dataframe thead th {\n",
       "        text-align: right;\n",
       "    }\n",
       "</style>\n",
       "<table border=\"1\" class=\"dataframe\">\n",
       "  <thead>\n",
       "    <tr style=\"text-align: right;\">\n",
       "      <th></th>\n",
       "      <th>attrition</th>\n",
       "      <th>sales_quota_pct</th>\n",
       "    </tr>\n",
       "    <tr>\n",
       "      <th>recruiting_source</th>\n",
       "      <th></th>\n",
       "      <th></th>\n",
       "    </tr>\n",
       "  </thead>\n",
       "  <tbody>\n",
       "    <tr>\n",
       "      <th>Applied Online</th>\n",
       "      <td>0.246154</td>\n",
       "      <td>1.058590</td>\n",
       "    </tr>\n",
       "    <tr>\n",
       "      <th>Campus</th>\n",
       "      <td>0.285714</td>\n",
       "      <td>0.908035</td>\n",
       "    </tr>\n",
       "    <tr>\n",
       "      <th>Referral</th>\n",
       "      <td>0.333333</td>\n",
       "      <td>1.023198</td>\n",
       "    </tr>\n",
       "    <tr>\n",
       "      <th>Search Firm</th>\n",
       "      <td>0.500000</td>\n",
       "      <td>0.886960</td>\n",
       "    </tr>\n",
       "  </tbody>\n",
       "</table>\n",
       "</div>"
      ],
      "text/plain": [
       "                   attrition  sales_quota_pct\n",
       "recruiting_source                            \n",
       "Applied Online      0.246154         1.058590\n",
       "Campus              0.285714         0.908035\n",
       "Referral            0.333333         1.023198\n",
       "Search Firm         0.500000         0.886960"
      ]
     },
     "execution_count": 21,
     "metadata": {},
     "output_type": "execute_result"
    }
   ],
   "source": [
    "data.groupby(by='recruiting_source')[['attrition','sales_quota_pct']].mean()"
   ]
  },
  {
   "cell_type": "markdown",
   "id": "ae0e6ef4",
   "metadata": {},
   "source": [
    "The following conclusions can be made based on the computation above:\n",
    "                \n",
    "                1. Those hired through online applications have the greatest sales volume and the lowest attrition\n",
    "                rate,indicating that those hired online have the best likelihood of sticking with the company.  \n",
    "                2. Despite having the second-highest sales volume, applicants acquired through referrals have the \n",
    "                second-highest attrition rate, which increases the likelihood of them quitting the organization.\n",
    "                3. The prospects hired through Search Frim are not the best candidates to hire because they have the lowest \n",
    "                retention rate and the lowest sales volume.\n",
    "                "
   ]
  },
  {
   "cell_type": "code",
   "execution_count": null,
   "id": "1c86baa5",
   "metadata": {},
   "outputs": [],
   "source": []
  }
 ],
 "metadata": {
  "kernelspec": {
   "display_name": "Python 3 (ipykernel)",
   "language": "python",
   "name": "python3"
  },
  "language_info": {
   "codemirror_mode": {
    "name": "ipython",
    "version": 3
   },
   "file_extension": ".py",
   "mimetype": "text/x-python",
   "name": "python",
   "nbconvert_exporter": "python",
   "pygments_lexer": "ipython3",
   "version": "3.11.5"
  }
 },
 "nbformat": 4,
 "nbformat_minor": 5
}
